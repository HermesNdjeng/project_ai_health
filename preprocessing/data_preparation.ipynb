{
 "cells": [
  {
   "cell_type": "markdown",
   "metadata": {},
   "source": [
    "Convert the DICOM Image into PNG\n"
   ]
  },
  {
   "cell_type": "code",
   "execution_count": 13,
   "metadata": {},
   "outputs": [],
   "source": [
    "import os\n",
    "import rich\n",
    "import pydicom as dicom\n",
    "import numpy as np\n",
    "import pandas as pd \n",
    "from PIL import Image "
   ]
  },
  {
   "cell_type": "code",
   "execution_count": 6,
   "metadata": {},
   "outputs": [],
   "source": [
    "FILTERED_DATA_PATH = 'filtered_data/'\n",
    "FILTERED_DATA_PNG_PATH = 'filtered_data_png/'\n",
    "\n",
    "os.makedirs(FILTERED_DATA_PNG_PATH, exist_ok=True)"
   ]
  },
  {
   "cell_type": "code",
   "execution_count": 7,
   "metadata": {},
   "outputs": [],
   "source": [
    "def convert_dicom_to_jpeg(name):\n",
    "    image = dicom.dcmread (name)\n",
    "    if 'PixelData' in image:\n",
    "        image = image.pixel_array.astype(float)\n",
    "        rescaled_image = (np.maximum(image, 0) / image.max()) * 255\n",
    "        rescaled_image = np.uint8(rescaled_image)\n",
    "        jpeg_image = Image.fromarray(rescaled_image)\n",
    "        return jpeg_image \n",
    "    else:\n",
    "        print(f\"No PixelData found for {name})\")\n",
    "        return None"
   ]
  },
  {
   "cell_type": "code",
   "execution_count": 8,
   "metadata": {},
   "outputs": [],
   "source": [
    "for name in os.listdir(FILTERED_DATA_PATH):\n",
    "    full_path = os.path.join(FILTERED_DATA_PATH, name)\n",
    "    jpeg_image = convert_dicom_to_jpeg(full_path)\n",
    "    if jpeg_image:\n",
    "        jpeg_image.save(FILTERED_DATA_PNG_PATH + name + '.png')"
   ]
  },
  {
   "cell_type": "markdown",
   "metadata": {},
   "source": [
    "**Metadata extraction**"
   ]
  },
  {
   "cell_type": "code",
   "execution_count": 33,
   "metadata": {},
   "outputs": [],
   "source": [
    "def list_all_metadata(dicom_file_path):\n",
    "    dicom_data = dicom.dcmread(dicom_file_path)\n",
    "    rich.print(dicom_data.dir())"
   ]
  },
  {
   "cell_type": "code",
   "execution_count": null,
   "metadata": {},
   "outputs": [],
   "source": [
    "def list_all_metadata_with_values(dicom_file_path):\n",
    "    dicom_data = dicom.dcmread(dicom_file_path)\n",
    "    rich.print(dicom_data.dir)"
   ]
  },
  {
   "cell_type": "code",
   "execution_count": null,
   "metadata": {},
   "outputs": [],
   "source": [
    "list_all_metadata(FILTERED_DATA_PATH + \"I0000091\")"
   ]
  },
  {
   "cell_type": "markdown",
   "metadata": {},
   "source": [
    "Keep only relevant metadata "
   ]
  },
  {
   "cell_type": "code",
   "execution_count": 31,
   "metadata": {},
   "outputs": [],
   "source": [
    "def extract_metadata(dicom_file_path):\n",
    "    dicom_data = dicom.dcmread(dicom_file_path)\n",
    "    metadata = {\n",
    "        'PatientID': dicom_data.PatientID if 'PatientID' in dicom_data else None,\n",
    "        'PatientName': dicom_data.PatientName if 'PatientName' in dicom_data else None,\n",
    "        'PatientAge': dicom_data.PatientAge if 'PatientAge' in dicom_data else None,\n",
    "        'PatientSex': dicom_data.PatientSex if 'PatientSex' in dicom_data else None,\n",
    "        'StudyDate': dicom_data.StudyDate if 'StudyDate' in dicom_data else None,\n",
    "        \"View Position\": dicom_data.ViewPosition if 'ViewPosition' in dicom_data else None,\n",
    "        \"Animal Species\": dicom_data.PatientSpeciesDescription if 'PatientSpeciesDescription' in dicom_data else None,\n",
    "        \"Weight\": dicom_data.PatientWeight if 'PatientWeight' in dicom_data else None,\n",
    "        \"Type\": dicom_data.PatientBreedDescription if 'PatientBreedDescription' in dicom_data else None,\n",
    "    }\n",
    "    return metadata\n"
   ]
  },
  {
   "cell_type": "code",
   "execution_count": 32,
   "metadata": {},
   "outputs": [],
   "source": [
    "metadata_list = []\n",
    "for filename in os.listdir(FILTERED_DATA_PATH):\n",
    "    metadata = extract_metadata(FILTERED_DATA_PATH + filename)\n",
    "    metadata_list.append(metadata)\n",
    "\n",
    "metadata_df = pd.DataFrame(metadata_list)"
   ]
  },
  {
   "cell_type": "code",
   "execution_count": 35,
   "metadata": {},
   "outputs": [],
   "source": [
    "metadata_df.to_csv('filtered_data/metadata.csv', index=False)"
   ]
  }
 ],
 "metadata": {
  "kernelspec": {
   "display_name": "virtual_env",
   "language": "python",
   "name": "python3"
  },
  "language_info": {
   "codemirror_mode": {
    "name": "ipython",
    "version": 3
   },
   "file_extension": ".py",
   "mimetype": "text/x-python",
   "name": "python",
   "nbconvert_exporter": "python",
   "pygments_lexer": "ipython3",
   "version": "3.11.10"
  }
 },
 "nbformat": 4,
 "nbformat_minor": 2
}
